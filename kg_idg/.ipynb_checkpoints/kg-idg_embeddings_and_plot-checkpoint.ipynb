{
 "cells": [
  {
   "cell_type": "markdown",
   "id": "83542fd2",
   "metadata": {},
   "source": [
    "# Embeddings and Plot for KG-IDG"
   ]
  },
  {
   "cell_type": "code",
   "execution_count": 1,
   "id": "551ded85",
   "metadata": {},
   "outputs": [],
   "source": [
    "from ensmallen import Graph"
   ]
  },
  {
   "cell_type": "code",
   "execution_count": 8,
   "id": "f21278ca",
   "metadata": {},
   "outputs": [],
   "source": [
    "# These need to be the filepaths to the edge and node files\n",
    "edges_path = \"./data/merged/merged-kg_edges.tsv\"\n",
    "nodes_path = \"./data/merged/merged-kg_nodes.tsv\""
   ]
  },
  {
   "cell_type": "code",
   "execution_count": 9,
   "id": "0e16e711",
   "metadata": {},
   "outputs": [
    {
     "ename": "ValueError",
     "evalue": "Cannot open the file at ./data/merged/merged-kg_nodes.tsv",
     "output_type": "error",
     "traceback": [
      "\u001b[0;31m---------------------------------------------------------------------------\u001b[0m",
      "\u001b[0;31mValueError\u001b[0m                                Traceback (most recent call last)",
      "\u001b[0;32m/tmp/ipykernel_12231/1221471720.py\u001b[0m in \u001b[0;36m<module>\u001b[0;34m\u001b[0m\n\u001b[0;32m----> 1\u001b[0;31m g = Graph.from_csv(name=\"kg-idg\",\n\u001b[0m\u001b[1;32m      2\u001b[0m                     \u001b[0medge_path\u001b[0m\u001b[0;34m=\u001b[0m\u001b[0medges_path\u001b[0m\u001b[0;34m,\u001b[0m\u001b[0;34m\u001b[0m\u001b[0;34m\u001b[0m\u001b[0m\n\u001b[1;32m      3\u001b[0m                     \u001b[0msources_column\u001b[0m\u001b[0;34m=\u001b[0m\u001b[0;34m\"subject\"\u001b[0m\u001b[0;34m,\u001b[0m\u001b[0;34m\u001b[0m\u001b[0;34m\u001b[0m\u001b[0m\n\u001b[1;32m      4\u001b[0m                     \u001b[0mdestinations_column\u001b[0m\u001b[0;34m=\u001b[0m\u001b[0;34m\"object\"\u001b[0m\u001b[0;34m,\u001b[0m\u001b[0;34m\u001b[0m\u001b[0;34m\u001b[0m\u001b[0m\n\u001b[1;32m      5\u001b[0m                     \u001b[0medge_list_header\u001b[0m \u001b[0;34m=\u001b[0m \u001b[0;32mTrue\u001b[0m\u001b[0;34m,\u001b[0m\u001b[0;34m\u001b[0m\u001b[0;34m\u001b[0m\u001b[0m\n",
      "\u001b[0;31mValueError\u001b[0m: Cannot open the file at ./data/merged/merged-kg_nodes.tsv"
     ]
    }
   ],
   "source": [
    "g = Graph.from_csv(name=\"kg-idg\",\n",
    "                    edge_path=edges_path,\n",
    "                    sources_column=\"subject\",\n",
    "                    destinations_column=\"object\",\n",
    "                    edge_list_header = True,\n",
    "                    edge_list_separator=\"\\t\",\n",
    "                    node_path = nodes_path,\n",
    "                    nodes_column = \"id\",\n",
    "                    node_list_header = True,\n",
    "                    node_list_separator=\"\\t\",\n",
    "                    directed=False,\n",
    "                    verbose=True\n",
    "                    )"
   ]
  },
  {
   "cell_type": "code",
   "execution_count": 7,
   "id": "aa9387e2",
   "metadata": {},
   "outputs": [
    {
     "name": "stdout",
     "output_type": "stream",
     "text": [
      "/home/harry/kg-idg/kg_idg\r\n"
     ]
    }
   ],
   "source": [
    "! pwd"
   ]
  },
  {
   "cell_type": "code",
   "execution_count": null,
   "id": "c4e173a6",
   "metadata": {},
   "outputs": [],
   "source": []
  }
 ],
 "metadata": {
  "kernelspec": {
   "display_name": "Python 3 (ipykernel)",
   "language": "python",
   "name": "python3"
  },
  "language_info": {
   "codemirror_mode": {
    "name": "ipython",
    "version": 3
   },
   "file_extension": ".py",
   "mimetype": "text/x-python",
   "name": "python",
   "nbconvert_exporter": "python",
   "pygments_lexer": "ipython3",
   "version": "3.8.10"
  }
 },
 "nbformat": 4,
 "nbformat_minor": 5
}
